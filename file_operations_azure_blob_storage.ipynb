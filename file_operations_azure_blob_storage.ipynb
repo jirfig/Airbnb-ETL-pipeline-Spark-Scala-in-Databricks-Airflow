{
 "cells": [
  {
   "cell_type": "markdown",
   "id": "60f433fb",
   "metadata": {},
   "source": [
    "# Create containers in Azure Blob Storage"
   ]
  },
  {
   "cell_type": "code",
   "execution_count": null,
   "id": "5aa0b5e4-393e-479f-9a38-2cedfa46c4e0",
   "metadata": {},
   "outputs": [],
   "source": [
    "from azure.storage.blob import BlobServiceClient\n",
    "import configparser"
   ]
  },
  {
   "cell_type": "code",
   "execution_count": null,
   "id": "72e3037b-e3a8-4cbe-9623-7da74c97a01b",
   "metadata": {},
   "outputs": [],
   "source": [
    "config = configparser.ConfigParser()\n",
    "config.read('config/prj_cfg_local.txt')\n",
    "\n",
    "storage_con_str = config.get(\"AZURE\", \"STORAGE_ACCOUNT_CONN_STR\")\n",
    "storage_account = \"jdata01\"\n",
    "\n",
    "raw_data_container = \"raw\"     \n",
    "dim_model_container = \"dim-model-azdb\"\n",
    "dim_model_container_new = \"dim-model-azdb-new\"\n",
    "preprocessed_container = \"preprocessed\""
   ]
  },
  {
   "cell_type": "code",
   "execution_count": null,
   "id": "9eddb9eb",
   "metadata": {},
   "outputs": [],
   "source": [
    "blob_service_client = BlobServiceClient.from_connection_string(storage_con_str)"
   ]
  },
  {
   "cell_type": "code",
   "execution_count": null,
   "id": "2da0b4a7-108c-461b-807f-8f88add511eb",
   "metadata": {},
   "outputs": [],
   "source": [
    "for container_name in [raw_data_container,dim_model_container,dim_model_container_new,preprocessed_container]:    \n",
    "    try:    \n",
    "        blob_service_client.create_container(container_name)\n",
    "        print(f\"Container {container_name} was created\")\n",
    "    except:\n",
    "        print(f\"Container {container_name} was not created, it possibly already exists\")"
   ]
  },
  {
   "cell_type": "markdown",
   "id": "0512d369",
   "metadata": {},
   "source": [
    "# Upload local data to Azure Blob Storage"
   ]
  },
  {
   "cell_type": "code",
   "execution_count": null,
   "id": "bd789b9e",
   "metadata": {},
   "outputs": [],
   "source": [
    "from azure.storage.blob import BlobClient\n",
    "import glob\n",
    "import pathlib"
   ]
  },
  {
   "cell_type": "code",
   "execution_count": null,
   "id": "e1c14e7e-c914-4352-bbb3-102a8ca57435",
   "metadata": {},
   "outputs": [],
   "source": [
    "data_parent = 'data'\n",
    "path_global_listings = 'airbnb-listings.csv'\n",
    "path_city_listings = 'cities/*/*/listings.csv'\n",
    "path_city_reviews = 'cities/*/*/reviews.csv'\n",
    "path_city_temperature = \"weather/ECA_blend_tg/*.txt\"\n",
    "path_city_rain = \"weather/ECA_blend_rr/*.txt\""
   ]
  },
  {
   "cell_type": "code",
   "execution_count": null,
   "id": "35888ce9-5099-4ccb-88f5-03d61c7501a8",
   "metadata": {},
   "outputs": [],
   "source": [
    "def upload_to_azure(path):\n",
    "    for filepath in glob.glob(str(pathlib.Path(data_parent,*(path.split(\"/\"))))):\n",
    "        print(\"/\".join(filepath.split(\"/\")[1:]))   \n",
    "\n",
    "        blob_client = blob_service_client.get_blob_client(container=raw_data_container, blob=\"/\".join(filepath.split(\"/\")[1:]))\n",
    "\n",
    "        with open(filepath, \"rb\") as data:\n",
    "            blob_client.upload_blob(data)"
   ]
  },
  {
   "cell_type": "code",
   "execution_count": null,
   "id": "d869f1b0-b4af-4591-a286-3eba0d7fb1cb",
   "metadata": {},
   "outputs": [],
   "source": [
    "upload_to_azure(path_global_listings)"
   ]
  },
  {
   "cell_type": "code",
   "execution_count": null,
   "id": "bcb3775f-f324-4288-b07e-b574ee62d519",
   "metadata": {},
   "outputs": [],
   "source": [
    "upload_to_azure(path_city_listings)"
   ]
  },
  {
   "cell_type": "code",
   "execution_count": null,
   "id": "24c43fcc-55b1-4ff0-a551-b3fa2546694e",
   "metadata": {},
   "outputs": [],
   "source": [
    "upload_to_azure(path_city_reviews)"
   ]
  },
  {
   "cell_type": "code",
   "execution_count": null,
   "id": "d100934d-7f02-4940-880e-cfd8a246ad26",
   "metadata": {},
   "outputs": [],
   "source": [
    "upload_to_azure(path_city_temperature)"
   ]
  },
  {
   "cell_type": "code",
   "execution_count": null,
   "id": "93496e7e-3d95-4aee-a91c-44bedfabce39",
   "metadata": {},
   "outputs": [],
   "source": [
    "upload_to_azure(path_city_rain)"
   ]
  },
  {
   "cell_type": "markdown",
   "id": "508c6aa6",
   "metadata": {},
   "source": [
    "# Move files between containers"
   ]
  },
  {
   "cell_type": "code",
   "execution_count": null,
   "id": "cd617a37",
   "metadata": {},
   "outputs": [],
   "source": [
    "source_container = dim_model_container_new\n",
    "target_container = dim_model_container\n",
    "\n",
    "source_container_client = blob_service_client.get_container_client(source_container)\n",
    "target_container_client = blob_service_client.get_container_client(target_container)\n",
    "\n",
    "blobs_source = source_container_client.list_blobs()\n",
    "try:\n",
    "    blobs_source.next()\n",
    "except StopIteration:\n",
    "    raise ValueError(\"Source container is empty. Aborted.\")\n",
    "\n",
    "blobs_target = target_container_client.list_blobs()          \n",
    "print(\"Deleting target container blobs if existing ...\")    \n",
    "for blob in blobs_target:\n",
    "    blob_target = blob_service_client.get_blob_client(target_container, blob.name)             \n",
    "    blob_target.delete_blob()        \n",
    "    print(f\"{blob_target.url} deleted\")   \n",
    "\n",
    "blobs_source = source_container_client.list_blobs()\n",
    "for blob in blobs_source:\n",
    "    blob_target = blob_service_client.get_blob_client(target_container, blob.name) \n",
    "    blob_source_url = f\"https://{storage_account}.blob.core.windows.net/{source_container}/\"+blob.name\n",
    "    blob_target.start_copy_from_url(blob_source_url)\n",
    "    print(f\"Copied {blob_source_url} to {blob_target.url}\")\n",
    "    blob_source = blob_service_client.get_blob_client(source_container, blob.name) \n",
    "    blob_source.delete_blob()\n",
    "    print(f\"Deleted {blob_source_url}\") "
   ]
  }
 ],
 "metadata": {
  "kernelspec": {
   "display_name": "azure_db_capstone",
   "language": "python",
   "name": "azure_db_capstone"
  },
  "language_info": {
   "codemirror_mode": {
    "name": "ipython",
    "version": 3
   },
   "file_extension": ".py",
   "mimetype": "text/x-python",
   "name": "python",
   "nbconvert_exporter": "python",
   "pygments_lexer": "ipython3",
   "version": "3.8.5"
  }
 },
 "nbformat": 4,
 "nbformat_minor": 5
}
