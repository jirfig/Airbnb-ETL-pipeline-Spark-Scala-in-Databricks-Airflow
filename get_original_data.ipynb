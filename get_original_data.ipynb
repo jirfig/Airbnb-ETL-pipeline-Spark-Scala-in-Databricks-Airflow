{
 "cells": [
  {
   "cell_type": "markdown",
   "id": "e720d0b5-1bac-4898-9e1b-82c80f0c351f",
   "metadata": {},
   "source": [
    "# Download raw data from original sources\n",
    "- ~10GB downloaded, 7GB after extracting selected data\n",
    "- Sources:\n",
    "    - Airbnb data: http://insideairbnb.com/get-the-data.html, https://public.opendatasoft.com\n",
    "    - Weather data: www.ecad.eu\n",
    "- Links at http://data.insideairbnb.com/ are maintained for up to a year, see http://insideairbnb.com/get-the-data.html for more information. This project uses data from January - March 2021.\n",
    "- Weather archives from ECAD at www.ecad.eu are updated regularly to include new measurements. This project uses weather data up to end of March 2021.\n"
   ]
  },
  {
   "cell_type": "code",
   "execution_count": 1,
   "id": "d04ed468-e405-49dd-bfa2-b50cc171d7a2",
   "metadata": {},
   "outputs": [],
   "source": [
    "import pathlib\n",
    "import os\n",
    "import requests\n",
    "import gzip\n",
    "from zipfile import ZipFile"
   ]
  },
  {
   "cell_type": "code",
   "execution_count": 2,
   "id": "2adff210-d8ec-4abb-a66b-a223354483ed",
   "metadata": {},
   "outputs": [],
   "source": [
    "data_parent = 'data'\n",
    "\n",
    "data_cities = [\n",
    "{\"url\": \"http://data.insideairbnb.com/the-netherlands/north-holland/amsterdam/2021-03-04/data/listings.csv.gz\",\n",
    " \"filepath\": \"cities/Amsterdam/2021-03/listings.csv\"},\n",
    "{\"url\": \"http://data.insideairbnb.com/the-netherlands/north-holland/amsterdam/2021-02-08/data/listings.csv.gz\", \n",
    " \"filepath\": \"cities/Amsterdam/2021-02/listings.csv\"},\n",
    "{\"url\": \"http://data.insideairbnb.com/the-netherlands/north-holland/amsterdam/2021-01-09/data/listings.csv.gz\" , \n",
    " \"filepath\": \"cities/Amsterdam/2021-01/listings.csv\"},\n",
    "    \n",
    "{\"url\": \"http://data.insideairbnb.com/the-netherlands/north-holland/amsterdam/2021-03-04/data/reviews.csv.gz\" , \n",
    " \"filepath\": \"cities/Amsterdam/2021-03/reviews.csv\"},\n",
    "{\"url\": \"http://data.insideairbnb.com/the-netherlands/north-holland/amsterdam/2021-02-08/data/reviews.csv.gz\", \n",
    " \"filepath\": \"cities/Amsterdam/2021-02/reviews.csv\"},\n",
    "{\"url\": \"http://data.insideairbnb.com/the-netherlands/north-holland/amsterdam/2021-01-09/data/reviews.csv.gz\", \n",
    " \"filepath\": \"cities/Amsterdam/2021-01/reviews.csv\"},\n",
    "    \n",
    "{\"url\": \"http://data.insideairbnb.com/germany/be/berlin/2021-03-12/data/listings.csv.gz\", \n",
    " \"filepath\": \"cities/Berlin/2021-03/listings.csv\"},\n",
    "{\"url\": \"http://data.insideairbnb.com/germany/be/berlin/2021-02-20/data/listings.csv.gz\", \n",
    " \"filepath\": \"cities/Berlin/2021-02/listings.csv\"},\n",
    "{\"url\": \"http://data.insideairbnb.com/germany/be/berlin/2021-01-19/data/listings.csv.gz\", \n",
    " \"filepath\": \"cities/Berlin/2021-01/listings.csv\"},   \n",
    "    \n",
    "{\"url\": \"http://data.insideairbnb.com/germany/be/berlin/2021-03-12/data/reviews.csv.gz\", \n",
    " \"filepath\": \"cities/Berlin/2021-03/reviews.csv\"},\n",
    "{\"url\": \"http://data.insideairbnb.com/germany/be/berlin/2021-02-20/data/reviews.csv.gz\" , \n",
    " \"filepath\": \"cities/Berlin/2021-02/reviews.csv\"},\n",
    "{\"url\": \"http://data.insideairbnb.com/germany/be/berlin/2021-01-19/data/reviews.csv.gz\", \n",
    " \"filepath\": \"cities/Berlin/2021-01/reviews.csv\"},\n",
    "\n",
    "{\"url\": \"http://data.insideairbnb.com/united-kingdom/england/london/2021-03-05/data/listings.csv.gz\", \n",
    " \"filepath\": \"cities/London/2021-03/listings.csv\"},   \n",
    "{\"url\": \"http://data.insideairbnb.com/united-kingdom/england/london/2021-02-09/data/listings.csv.gz\", \n",
    " \"filepath\": \"cities/London/2021-02/listings.csv\"},   \n",
    "{\"url\": \"http://data.insideairbnb.com/united-kingdom/england/london/2021-01-11/data/listings.csv.gz\", \n",
    " \"filepath\": \"cities/London/2021-01/listings.csv\"},   \n",
    "\n",
    "{\"url\": \"http://data.insideairbnb.com/united-kingdom/england/london/2021-03-05/data/reviews.csv.gz\", \n",
    " \"filepath\": \"cities/London/2021-03/reviews.csv\"},   \n",
    "{\"url\": \"http://data.insideairbnb.com/united-kingdom/england/london/2021-02-09/data/reviews.csv.gz\", \n",
    " \"filepath\": \"cities/London/2021-02/reviews.csv\"},   \n",
    "{\"url\": \"http://data.insideairbnb.com/united-kingdom/england/london/2021-01-11/data/reviews.csv.gz\", \n",
    " \"filepath\": \"cities/London/2021-01/reviews.csv\"},   \n",
    "    \n",
    "{\"url\": \"http://data.insideairbnb.com/france/ile-de-france/paris/2021-03-04/data/listings.csv.gz\", \n",
    " \"filepath\": \"cities/Paris/2021-03/listings.csv\"},   \n",
    "{\"url\": \"http://data.insideairbnb.com/france/ile-de-france/paris/2021-02-08/data/listings.csv.gz\", \n",
    " \"filepath\": \"cities/Paris/2021-02/listings.csv\"},   \n",
    "{\"url\": \"http://data.insideairbnb.com/france/ile-de-france/paris/2021-01-10/data/listings.csv.gz\", \n",
    " \"filepath\": \"cities/Paris/2021-01/listings.csv\"},   \n",
    "   \n",
    "{\"url\": \"http://data.insideairbnb.com/france/ile-de-france/paris/2021-03-04/data/reviews.csv.gz\", \n",
    " \"filepath\": \"cities/Paris/2021-03/reviews.csv\"},   \n",
    "{\"url\": \"http://data.insideairbnb.com/france/ile-de-france/paris/2021-02-08/data/reviews.csv.gz\", \n",
    " \"filepath\": \"cities/Paris/2021-02/reviews.csv\"},   \n",
    "{\"url\": \"http://data.insideairbnb.com/france/ile-de-france/paris/2021-01-10/data/reviews.csv.gz\", \n",
    " \"filepath\": \"cities/Paris/2021-01/reviews.csv\"}   \n",
    "]\n",
    "\n",
    "data_global_listings = \\\n",
    "{\"url\": \"https://public.opendatasoft.com/explore/dataset/airbnb-listings/download/?format=csv&timezone=Europe/Berlin&lang=en&use_labels_for_header=true&csv_separator=%3B\", \n",
    " \"filepath\": \"airbnb-listings.csv\"} \n",
    "\n",
    "data_weather = [\n",
    "{\"url\": \"https://knmi-ecad-assets-prd.s3.amazonaws.com/download/ECA_blend_tg.zip\",\n",
    " \"filepath\": \"weather/ECA_blend_tg\",\n",
    " \"files\": [\"TG_STAID000041.txt\", \"TG_STAID000593.txt\", \"TG_STAID001860.txt\", \"TG_STAID011249.txt\"]}, \n",
    "{\"url\": \"https://knmi-ecad-assets-prd.s3.amazonaws.com/download/ECA_blend_rr.zip\",\n",
    " \"filepath\": \"weather/ECA_blend_rr\",\n",
    " \"files\": [\"RR_STAID000041.txt\", \"RR_STAID000593.txt\", \"RR_STAID001860.txt\", \"RR_STAID011249.txt\"]}\n",
    "]"
   ]
  },
  {
   "cell_type": "markdown",
   "id": "fbcb5752-bba4-4bc6-8414-4b3a9a5bdc33",
   "metadata": {},
   "source": [
    "## 1. Download monthly listings and reviews data from Inside Airbnb"
   ]
  },
  {
   "cell_type": "code",
   "execution_count": 3,
   "id": "35700000-c4fa-4268-aaac-afe46a14e572",
   "metadata": {},
   "outputs": [],
   "source": [
    "# Create folder structure\n",
    "for item in data_cities:\n",
    "    pathlib.Path(data_parent,*(item['filepath'].split(\"/\")[0:-1])).mkdir(parents=True, exist_ok=True)  \n",
    "    \n",
    "# Download data, extract and save \n",
    "# Local reviews and listings\n",
    "for item in data_cities:\n",
    "    filename = item['url'].split('/')[-1]\n",
    "        \n",
    "    response = requests.get(item['url'], allow_redirects=True)\n",
    "    archive_path = pathlib.Path(data_parent,filename)\n",
    "    \n",
    "    open(archive_path, 'wb').write(response.content)          \n",
    "    with gzip.open(archive_path, 'rb') as f:\n",
    "        file_content = f.read()\n",
    "        with open(pathlib.Path(data_parent,item['filepath']), 'wb') as f2:\n",
    "            f2.write(file_content) "
   ]
  },
  {
   "cell_type": "markdown",
   "id": "9c574656-f142-4165-86d7-4788d7d4e4dd",
   "metadata": {},
   "source": [
    "## 2. Download global listings from opendatasoft"
   ]
  },
  {
   "cell_type": "code",
   "execution_count": null,
   "id": "7d1394c1-83ab-4fc5-b7f3-a613dacd5ac0",
   "metadata": {},
   "outputs": [],
   "source": [
    "# Global listings\n",
    "pathlib.Path(data_parent).mkdir(parents=True, exist_ok=True)  \n",
    "response = requests.get(data_global_listings['url'], allow_redirects=True)\n",
    "open(pathlib.Path(data_parent,data_global_listings['filepath']), 'wb').write(response.content)"
   ]
  },
  {
   "cell_type": "markdown",
   "id": "99a109e5-7b7b-46a9-99d6-60df9ba0f5d2",
   "metadata": {},
   "source": [
    "## 3. Download weather data from ecad.eu"
   ]
  },
  {
   "cell_type": "code",
   "execution_count": 3,
   "id": "3d799918-5c4e-427b-a191-8302f55d8326",
   "metadata": {},
   "outputs": [],
   "source": [
    "# Weather data\n",
    "for item in data_weather:\n",
    "    pathlib.Path(data_parent,*(item['filepath'].split(\"/\")[0:-1])).mkdir(parents=True, exist_ok=True)  \n",
    "\n",
    "for item in data_weather:\n",
    "    filename = item['url'].split('/')[-1]\n",
    "\n",
    "    response = requests.get(item['url'], allow_redirects=True)\n",
    "    archive_path = pathlib.Path(data_parent,filename)\n",
    "\n",
    "    open(archive_path, 'wb').write(response.content)\n",
    "    with ZipFile(archive_path, 'r') as zipObj:   \n",
    "       listOfFileNames = zipObj.namelist()   \n",
    "       for filename in listOfFileNames:       \n",
    "           if filename in item['files']:           \n",
    "               zipObj.extract(filename, pathlib.Path(data_parent,item['filepath']))"
   ]
  }
 ],
 "metadata": {
  "kernelspec": {
   "display_name": "Python 3",
   "language": "python",
   "name": "python3"
  },
  "language_info": {
   "codemirror_mode": {
    "name": "ipython",
    "version": 3
   },
   "file_extension": ".py",
   "mimetype": "text/x-python",
   "name": "python",
   "nbconvert_exporter": "python",
   "pygments_lexer": "ipython3",
   "version": "3.8.10"
  }
 },
 "nbformat": 4,
 "nbformat_minor": 5
}
